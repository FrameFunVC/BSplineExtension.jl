{
 "cells": [
  {
   "cell_type": "code",
   "execution_count": null,
   "metadata": {},
   "outputs": [],
   "source": [
    "using Pkg;Pkg.activate(pwd())"
   ]
  },
  {
   "cell_type": "code",
   "execution_count": null,
   "metadata": {},
   "outputs": [],
   "source": [
    "using BSplineExtension, LaTeXStrings, PyPlot, LinearAlgebra"
   ]
  },
  {
   "cell_type": "code",
   "execution_count": null,
   "metadata": {},
   "outputs": [],
   "source": [
    "S = BSplineExtension.Benelux.Data.countryrhs_full(;T=(1,448/447));\n",
    "size(S)"
   ]
  },
  {
   "cell_type": "code",
   "execution_count": null,
   "metadata": {},
   "outputs": [],
   "source": [
    "imshow((abs.(S).+1)', cmap=:RdBu, origin=:lower, norm=matplotlib[:colors][:LogNorm](1))\n",
    "c =colorbar()\n",
    "xlabel(L\"k\")\n",
    "ylabel(L\"l\")\n",
    "c[:set_label](label = \"Elevation (m.)\", rotation=270)"
   ]
  },
  {
   "cell_type": "code",
   "execution_count": null,
   "metadata": {},
   "outputs": [],
   "source": [
    "P = CountryPlatform(NdCDBSplinePlatform((1,1));T=(1,448/447))\n",
    "g = sampling_grid(P)\n",
    "N = div.(size(supergrid(g)),2)\n",
    "c = @time solver(P,N)*rhs(P)\n",
    "cdir = @time solver(P,N;solverstyle=DirectStyle(),directsolver=SPQR_solver)*rhs(P)\n",
    "F = Expansion(dictionary(P,N),c)\n",
    "\n",
    "A = evaluation_operator(basis(dictionary(P,N)),supergrid(g))\n",
    "A2 = evaluation_operator(basis(dictionary(P,N)),resize(supergrid(g),4 .* size(supergrid(g))))*c\n",
    "rR = abs.(A*c-S)./abs.(S);\n",
    "aR = abs.(A*c-S);\n",
    "rRdir = abs.(A*cdir-S)./abs.(S);\n",
    "aRdir = abs.(A*cdir-S);\n",
    "N"
   ]
  },
  {
   "cell_type": "code",
   "execution_count": null,
   "metadata": {},
   "outputs": [],
   "source": [
    "AA = AZ_A(P,N)"
   ]
  },
  {
   "cell_type": "code",
   "execution_count": null,
   "metadata": {},
   "outputs": [],
   "source": [
    "size(AA)"
   ]
  },
  {
   "cell_type": "code",
   "execution_count": null,
   "metadata": {},
   "outputs": [],
   "source": [
    "count(sum(abs.(sparse(AA).A),dims=2).!=0)/count(sum(abs.(sparse(AA).A),dims=1).!=0)"
   ]
  },
  {
   "cell_type": "code",
   "execution_count": null,
   "metadata": {},
   "outputs": [],
   "source": [
    "solver(P,N).psolver.operators[1].op.A"
   ]
  },
  {
   "cell_type": "code",
   "execution_count": null,
   "metadata": {},
   "outputs": [],
   "source": [
    "t = A*c-S\n",
    "t[isnan.(t)] .= 0\n",
    "\n",
    "s = A*cdir-S\n",
    "s[isnan.(s)] .= 0\n",
    "\n",
    "norm(t)/norm(rhs(P)), norm(c), norm(s)/norm(rhs(P)), norm(cdir)"
   ]
  },
  {
   "cell_type": "code",
   "execution_count": null,
   "metadata": {},
   "outputs": [],
   "source": [
    "T = abs.(A*c) .+1\n",
    "T[.!(g.mask)] .= NaN\n",
    "xmin = 1\n",
    "ymin = 1\n",
    "xmax = size(supergrid(g),1)\n",
    "ymax = size(supergrid(g),1)\n",
    "imshow(T', cmap=:RdBu, origin=:lower, norm=matplotlib[:colors][:SymLogNorm](1e-10))\n",
    "xlabel(L\"k\")\n",
    "ylabel(L\"l\")\n",
    "c = colorbar()\n",
    "c[:set_label](label = \"Elevation (m.)\", rotation=270)"
   ]
  },
  {
   "cell_type": "code",
   "execution_count": null,
   "metadata": {},
   "outputs": [],
   "source": [
    "imshow((abs.(A2).+1)', cmap=:RdBu, origin=:lower, norm=matplotlib[:colors][:LogNorm](1))\n",
    "c =colorbar()\n",
    "xlabel(L\"k\")\n",
    "ylabel(L\"l\")\n",
    "c[:set_label](label = \"Elevation (m.)\", rotation=270)"
   ]
  },
  {
   "cell_type": "code",
   "execution_count": null,
   "metadata": {},
   "outputs": [],
   "source": [
    "imshow((rR)' .+ 1e-4, cmap=:RdBu, origin=:lower, norm=matplotlib[:colors][:LogNorm]())\n",
    "c =colorbar()\n",
    "xlabel(L\"k\")\n",
    "ylabel(L\"l\")\n",
    "c[:set_label](label = \"Rel. error\", rotation=270)"
   ]
  },
  {
   "cell_type": "code",
   "execution_count": null,
   "metadata": {},
   "outputs": [],
   "source": [
    "imshow((aR)' .+ 1e-1, cmap=:RdBu, origin=:lower, norm=matplotlib[:colors][:LogNorm]())\n",
    "c =colorbar()\n",
    "xlabel(L\"k\")\n",
    "ylabel(L\"l\")\n",
    "c[:set_label](label = \"Abs. error (m.)\", rotation=270)"
   ]
  },
  {
   "cell_type": "code",
   "execution_count": null,
   "metadata": {},
   "outputs": [],
   "source": []
  }
 ],
 "metadata": {
  "@webio": {
   "lastCommId": null,
   "lastKernelId": null
  },
  "kernelspec": {
   "display_name": "Julia 1.2.0",
   "language": "julia",
   "name": "julia-1.2"
  },
  "language_info": {
   "file_extension": ".jl",
   "mimetype": "application/julia",
   "name": "julia",
   "version": "1.2.0"
  }
 },
 "nbformat": 4,
 "nbformat_minor": 2
}
