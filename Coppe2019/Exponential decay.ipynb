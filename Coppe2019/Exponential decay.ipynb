{
 "cells": [
  {
   "cell_type": "code",
   "execution_count": null,
   "metadata": {},
   "outputs": [],
   "source": [
    "using Pkg;Pkg.activate(pwd())\n",
    "using CardinalBSplines, Plots, LinearAlgebra, FastTransforms, LaTeXStrings, FFTW, PGFPlotsX, InfiniteVectors\n",
    "function coef_size(n) \n",
    "    N = 150\n",
    "    bn = [shifted_spline_integral(n,abs(k),BigFloat) for k in [(0:N)..., (-N:-1)...]];\n",
    "    -(length(bn)>>1):(length(bn)>>1), circshift(abs.(ifft(1 ./ fft(bn))),length(bn)>>1)\n",
    "end\n",
    "function coef_size(m,n)\n",
    "    N = 301; x = -(N>>1):(N>>1)\n",
    "    snm = inv(PeriodicInfiniteVector(downsample(bsplinesignal(n,m,BigFloat)*bsplinesignal(n,m,BigFloat),m), \n",
    "                N))\n",
    "    x, abs.(snm[x])\n",
    "end"
   ]
  },
  {
   "cell_type": "code",
   "execution_count": null,
   "metadata": {},
   "outputs": [],
   "source": []
  },
  {
   "cell_type": "code",
   "execution_count": null,
   "metadata": {},
   "outputs": [],
   "source": [
    "@pgf plotopts = {ymode=\"log\",ymin=1e-60,ymax=10, mark_repeat=18, mark_phase=1,unit_vector_ratio=1}"
   ]
  },
  {
   "cell_type": "code",
   "execution_count": null,
   "metadata": {},
   "outputs": [],
   "source": [
    "ps = [PlotInc(Table([coef_size(n)...])) for n in 1:5]\n",
    "ls = [LegendEntry(latexstring(\"p=$n\")) for n in 1:5]\n",
    "P = @pgf Axis(plotopts, ps..., ls...)"
   ]
  },
  {
   "cell_type": "code",
   "execution_count": null,
   "metadata": {},
   "outputs": [],
   "source": [
    "ps = [PlotInc(Table([1],[1])), [PlotInc(Table([coef_size(1,n)...])) for n in 2:5]...]\n",
    "Pm1 = @pgf Axis(plotopts,ps...)"
   ]
  },
  {
   "cell_type": "code",
   "execution_count": null,
   "metadata": {},
   "outputs": [],
   "source": [
    "using BSplineExtension"
   ]
  },
  {
   "cell_type": "code",
   "execution_count": null,
   "metadata": {},
   "outputs": [],
   "source": [
    "ps = [PlotInc(Table([coef_size(3,n)...])) for n in 1:5]\n",
    "Pm3 = @pgf Axis(plotopts,ps...)"
   ]
  },
  {
   "cell_type": "code",
   "execution_count": null,
   "metadata": {},
   "outputs": [],
   "source": [
    "ps = [PlotInc(Table([coef_size(5,n)...])) for n in 1:5]\n",
    "Pm5 = @pgf Axis(plotopts,ps...)"
   ]
  },
  {
   "cell_type": "code",
   "execution_count": null,
   "metadata": {},
   "outputs": [],
   "source": [
    "ps = [PlotInc(Table([coef_size(10,n)...])) for n in 1:5]\n",
    "Pm10 = @pgf Axis(plotopts,ps...)"
   ]
  },
  {
   "cell_type": "code",
   "execution_count": null,
   "metadata": {},
   "outputs": [],
   "source": []
  }
 ],
 "metadata": {
  "@webio": {
   "lastCommId": null,
   "lastKernelId": null
  },
  "kernelspec": {
   "display_name": "Julia 1.2.0",
   "language": "julia",
   "name": "julia-1.2"
  },
  "language_info": {
   "file_extension": ".jl",
   "mimetype": "application/julia",
   "name": "julia",
   "version": "1.2.0"
  }
 },
 "nbformat": 4,
 "nbformat_minor": 2
}
